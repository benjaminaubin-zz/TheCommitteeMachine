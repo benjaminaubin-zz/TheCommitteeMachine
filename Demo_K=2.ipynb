{
 "cells": [
  {
   "cell_type": "markdown",
   "metadata": {},
   "source": [
    "### Requirements:\n",
    "- Python3\n",
    "- Scipy, numpy, matplotlib, skmonaco\n",
    "(pip3 install --upgrade numpy scipy matplotlib scikit-monaco)\n",
    "\n",
    "\n"
   ]
  },
  {
   "cell_type": "markdown",
   "metadata": {},
   "source": [
    "# Import modules and Functions"
   ]
  },
  {
   "cell_type": "markdown",
   "metadata": {},
   "source": [
    "## Modules"
   ]
  },
  {
   "cell_type": "code",
   "execution_count": 1,
   "metadata": {},
   "outputs": [],
   "source": [
    "%load_ext autoreload\n",
    "%autoreload\n",
    "%reload_ext autoreload"
   ]
  },
  {
   "cell_type": "code",
   "execution_count": 2,
   "metadata": {
    "code_folding": []
   },
   "outputs": [
    {
     "name": "stderr",
     "output_type": "stream",
     "text": [
      "/Users/benjaminaubin/anaconda/lib/python3.6/site-packages/matplotlib/__init__.py:1405: UserWarning: \n",
      "This call to matplotlib.use() has no effect because the backend has already\n",
      "been chosen; matplotlib.use() must be called *before* pylab, matplotlib.pyplot,\n",
      "or matplotlib.backends is imported for the first time.\n",
      "\n",
      "  warnings.warn(_use_error_msg)\n"
     ]
    }
   ],
   "source": [
    "%matplotlib inline\n",
    "import sys\n",
    "sys.path.append('Python/')\n",
    "from main import *"
   ]
  },
  {
   "cell_type": "markdown",
   "metadata": {},
   "source": [
    "# Main - AMP and State Evolution"
   ]
  },
  {
   "cell_type": "markdown",
   "metadata": {},
   "source": [
    "## Parameters"
   ]
  },
  {
   "cell_type": "code",
   "execution_count": 3,
   "metadata": {},
   "outputs": [],
   "source": [
    "K = 2 \n",
    "PW_choice = 'binary' #PW_choice= binary or gaussian\n",
    "N = 10000 # N=1000 for test (fast) - N=10000 to be very precise\n",
    "alpha = 1.8\n",
    "verbose = False"
   ]
  },
  {
   "cell_type": "markdown",
   "metadata": {},
   "source": [
    "## State Evolution"
   ]
  },
  {
   "cell_type": "markdown",
   "metadata": {},
   "source": [
    "#### 1. Run SE (initialization with backup to speed up)"
   ]
  },
  {
   "cell_type": "code",
   "execution_count": 4,
   "metadata": {
    "scrolled": true
   },
   "outputs": [
    {
     "name": "stdout",
     "output_type": "stream",
     "text": [
      "Start initialization\n",
      "Succeeded to load old objects :  Nearest alpha= 1.8\n",
      "Initialization succeeded \n",
      "\n",
      "K= 2 PW= binary alpha= 1.8 channel= sign-sign\n",
      "Start SE: Mon Jun 11 01:14:55 2018\n",
      "Final overlap q_SE=\n",
      "[0.45836988 0.24338854]\n",
      "[0.24338854 0.45836988]\n",
      "End SE\n"
     ]
    }
   ],
   "source": [
    "obj_SE= run_SE(K=K,PW_choice=PW_choice,alpha=alpha,verbose=verbose)"
   ]
  },
  {
   "cell_type": "markdown",
   "metadata": {},
   "source": [
    "## Approximate Message Passing"
   ]
  },
  {
   "cell_type": "markdown",
   "metadata": {},
   "source": [
    "#### Run AMP: training on M=alpha*N samples"
   ]
  },
  {
   "cell_type": "code",
   "execution_count": 5,
   "metadata": {
    "scrolled": true
   },
   "outputs": [
    {
     "name": "stdout",
     "output_type": "stream",
     "text": [
      "Start initialization\n",
      "Initialization succeeded \n",
      "\n",
      "K= 2 PW= binary alpha= 1.8\n",
      "Start AMP: Mon Jun 11 01:16:16 2018\n",
      "Final overlap: q_AMP=\n",
      "[0.45827843 0.2216104 ]\n",
      "[0.2216104  0.45873627]\n",
      "End AMP\n"
     ]
    }
   ],
   "source": [
    "obj_AMP = run_AMP(K=K,PW_choice=PW_choice,N=N,alpha=alpha,verbose=verbose)"
   ]
  },
  {
   "cell_type": "markdown",
   "metadata": {},
   "source": [
    "#### 2. Plot the evolution of $q_{AMP}^t$"
   ]
  },
  {
   "cell_type": "code",
   "execution_count": 6,
   "metadata": {},
   "outputs": [
    {
     "data": {
      "image/png": "[encoded data removed]",
      "text/plain": [
       "<matplotlib.figure.Figure at 0x10852ac18>"
      ]
     },
     "metadata": {},
     "output_type": "display_data"
    }
   ],
   "source": [
    "plot_q(obj_AMP,obj_SE)"
   ]
  },
  {
   "cell_type": "markdown",
   "metadata": {},
   "source": [
    "We show the overlap matrix elements $q^t$ as a function of time $t$, for the committee machine with two hidden unites ($K=2$) at $\\alpha =1.8$.\n",
    "\n",
    "The overlap matrix of the AMP algorithm (full line) converges in the limit N $\\to \\infty$ towards its state evolution overlap (dashed line). "
   ]
  },
  {
   "cell_type": "markdown",
   "metadata": {},
   "source": [
    "## Generalization error"
   ]
  },
  {
   "cell_type": "markdown",
   "metadata": {},
   "source": [
    "#### 1. Compute SE generalization error"
   ]
  },
  {
   "cell_type": "code",
   "execution_count": 7,
   "metadata": {
    "scrolled": true
   },
   "outputs": [
    {
     "name": "stdout",
     "output_type": "stream",
     "text": [
      "alpha= 1.8 gen_err= 0.1350155\n"
     ]
    }
   ],
   "source": [
    "run_gen_error_SE(obj_SE)"
   ]
  },
  {
   "cell_type": "markdown",
   "metadata": {},
   "source": [
    "#### 2. AMP generalization error (over N_samples_gen_error new samples)"
   ]
  },
  {
   "cell_type": "code",
   "execution_count": 8,
   "metadata": {},
   "outputs": [
    {
     "name": "stdout",
     "output_type": "stream",
     "text": [
      "Start Gen Error\n",
      "0.0 %\n",
      "10.0 %\n",
      "20.0 %\n",
      "30.0 %\n",
      "40.0 %\n",
      "50.0 %\n",
      "60.0 %\n",
      "70.0 %\n",
      "80.0 %\n",
      "90.0 %\n",
      "End Gen Error\n",
      "Generalization Error = 0.13098597354060282\n"
     ]
    }
   ],
   "source": [
    "## Compute the corresponding Generalization Error\n",
    "N_samples_gen_error = 10000\n",
    "run_gen_error_AMP(obj_AMP,K,PW_choice,N,alpha,N_samples_gen_error)"
   ]
  }
 ],
 "metadata": {
  "kernelspec": {
   "display_name": "Python 3",
   "language": "python",
   "name": "python3"
  },
  "language_info": {
   "codemirror_mode": {
    "name": "ipython",
    "version": 3
   },
   "file_extension": ".py",
   "mimetype": "text/x-python",
   "name": "python",
   "nbconvert_exporter": "python",
   "pygments_lexer": "ipython3",
   "version": "3.6.1"
  }
 },
 "nbformat": 4,
 "nbformat_minor": 2
}
