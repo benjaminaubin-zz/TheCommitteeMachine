{
 "cells": [
  {
   "cell_type": "markdown",
   "metadata": {},
   "source": [
    "### Requirements:\n",
    "- Python3\n",
    "- Scipy, numpy, math, matplotlib, skmonaco, pickle\n",
    "\n"
   ]
  },
  {
   "cell_type": "markdown",
   "metadata": {},
   "source": [
    "# Import modules and Functions"
   ]
  },
  {
   "cell_type": "markdown",
   "metadata": {},
   "source": [
    "## Modules"
   ]
  },
  {
   "cell_type": "code",
   "execution_count": 2,
   "metadata": {
    "code_folding": []
   },
   "outputs": [],
   "source": [
    "%matplotlib inline\n",
    "import sys\n",
    "sys.path.append('Python/')\n",
    "\n",
    "from main import *"
   ]
  },
  {
   "cell_type": "markdown",
   "metadata": {},
   "source": [
    "# Main - AMP and State Evolution"
   ]
  },
  {
   "cell_type": "markdown",
   "metadata": {},
   "source": [
    "## Parameters"
   ]
  },
  {
   "cell_type": "code",
   "execution_count": 3,
   "metadata": {},
   "outputs": [],
   "source": [
    "### Parameters\n",
    "K = 2 \n",
    "PW_choice = 'binary' #PW_choice= binary or gaussian\n",
    "N = 10000 # N=1000 for test (fast) - N=10000 to be very precise\n",
    "alpha = 1.8\n",
    "print_Running = True"
   ]
  },
  {
   "cell_type": "markdown",
   "metadata": {},
   "source": [
    "## Approximate Message Passing"
   ]
  },
  {
   "cell_type": "markdown",
   "metadata": {},
   "source": [
    "#### Run AMP: training on M=alpha*N samples"
   ]
  },
  {
   "cell_type": "code",
   "execution_count": 4,
   "metadata": {
    "scrolled": true
   },
   "outputs": [
    {
     "name": "stdout",
     "output_type": "stream",
     "text": [
      "K= 2 PW= binary alpha= 1.8\n",
      "Start AMP: Thu May 31 15:44:23 2018\n",
      "Step = 1 Diff_q = 0.7955343230707524 Diff_What = 100.49757193955291\n",
      "Step = 2 Diff_q = 0.08929111070250106 Diff_What = 93.087554927872\n",
      "Step = 3 Diff_q = 0.0830207930267742 Diff_What = 77.96541246696432\n",
      "Step = 4 Diff_q = 0.030772811350542464 Diff_What = 68.30569468001133\n",
      "Step = 5 Diff_q = 0.02773198491596976 Diff_What = 63.584091246172164\n",
      "Step = 6 Diff_q = 0.019671051906596855 Diff_What = 58.116255074996225\n",
      "Step = 7 Diff_q = 0.012787788835569686 Diff_What = 54.86547939479754\n",
      "Step = 8 Diff_q = 0.011521088552037448 Diff_What = 53.504006761203016\n",
      "Step = 9 Diff_q = 0.009472777742597182 Diff_What = 51.99296174004909\n",
      "Step = 10 Diff_q = 0.008834331033528733 Diff_What = 50.437583480027904\n",
      "Step = 11 Diff_q = 0.005523116306061338 Diff_What = 48.31378710058284\n",
      "Step = 12 Diff_q = 0.004750436912280031 Diff_What = 47.73603481383567\n",
      "Step = 13 Diff_q = 0.004857314312801207 Diff_What = 47.0954161135826\n",
      "Step = 14 Diff_q = 0.005993906541020643 Diff_What = 46.56093541864087\n",
      "Step = 15 Diff_q = 0.004809805034030559 Diff_What = 46.650756889024926\n",
      "Step = 16 Diff_q = 0.005818148548588093 Diff_What = 46.75953245367173\n",
      "Step = 17 Diff_q = 0.0028189508180341606 Diff_What = 47.1717188433472\n",
      "Step = 18 Diff_q = 0.004591944162515949 Diff_What = 47.26387247696614\n",
      "Step = 19 Diff_q = 0.0047184823931106954 Diff_What = 47.087807163685895\n",
      "Step = 20 Diff_q = 0.00626356330092784 Diff_What = 47.125313139525076\n",
      "Step = 21 Diff_q = 0.00682964919867584 Diff_What = 46.199775873693426\n",
      "Step = 22 Diff_q = 0.0035961304104724064 Diff_What = 45.07190380483865\n",
      "Step = 23 Diff_q = 0.002662962637677744 Diff_What = 45.82316055741016\n",
      "Step = 24 Diff_q = 0.00044461332261704615 Diff_What = 45.38645050441273\n",
      "Step = 25 Diff_q = 0.0029836517835317242 Diff_What = 44.22038287104027\n",
      "Step = 26 Diff_q = 0.0039887007444559305 Diff_What = 43.46429529676856\n",
      "Step = 27 Diff_q = 0.004267984838599387 Diff_What = 43.46096571692163\n",
      "Step = 28 Diff_q = 0.00199663112720832 Diff_What = 43.352398388604676\n",
      "Step = 29 Diff_q = 0.002493974226275156 Diff_What = 44.412509143024145\n",
      "Step = 30 Diff_q = 0.0013925976290398215 Diff_What = 44.316146409438616\n",
      "Step = 31 Diff_q = 0.002681603737352095 Diff_What = 44.337069446979235\n",
      "Step = 32 Diff_q = 0.00403959660495623 Diff_What = 44.72654958864805\n",
      "Step = 33 Diff_q = 0.0038343007903642026 Diff_What = 44.21145597803511\n",
      "Step = 34 Diff_q = 0.003094584503828903 Diff_What = 44.630673830249556\n",
      "Step = 35 Diff_q = 0.0032173605258212987 Diff_What = 44.10043552512422\n",
      "Step = 36 Diff_q = 0.004207594079547171 Diff_What = 44.05385141275107\n",
      "Step = 37 Diff_q = 0.0022354253568394053 Diff_What = 44.14011312119546\n",
      "Step = 38 Diff_q = 0.0010789703924295486 Diff_What = 43.83683293072514\n",
      "Step = 39 Diff_q = 0.0016792459151549013 Diff_What = 43.83175386820352\n",
      "Step = 40 Diff_q = 0.0024815282401213228 Diff_What = 44.2884389104464\n",
      "Step = 41 Diff_q = 0.0018968138269741868 Diff_What = 44.45512436174444\n",
      "Step = 42 Diff_q = 0.0012343993772061291 Diff_What = 44.017147510976564\n",
      "Step = 43 Diff_q = 0.0015120861129206682 Diff_What = 43.808822863694814\n",
      "Step = 44 Diff_q = 0.0031799444931035746 Diff_What = 44.392034678117206\n",
      "Step = 45 Diff_q = 0.004033461723064329 Diff_What = 44.146832071445004\n",
      "Step = 46 Diff_q = 0.001953319341137004 Diff_What = 43.81918526514862\n",
      "Step = 47 Diff_q = 0.0028684181949650356 Diff_What = 44.15228824703008\n",
      "Step = 48 Diff_q = 0.0028081882610019662 Diff_What = 44.32242369449921\n",
      "Step = 49 Diff_q = 0.0006730601897529908 Diff_What = 44.96902517226192\n",
      "Step = 50 Diff_q = 0.004286294309740556 Diff_What = 45.53693046625467\n",
      "Step = 51 Diff_q = 0.004942715225686454 Diff_What = 45.071169353967015\n",
      "Step = 52 Diff_q = 0.0030014971565604323 Diff_What = 45.20097820692835\n",
      "Step = 53 Diff_q = 0.001867485899882476 Diff_What = 45.59763409843423\n",
      "Step = 54 Diff_q = 0.0006348947086801436 Diff_What = 46.04225264165752\n",
      "Step = 55 Diff_q = 0.0016886413962693269 Diff_What = 46.20315247052122\n",
      "Step = 56 Diff_q = 0.0017903509614769085 Diff_What = 46.70392636208939\n",
      "Step = 57 Diff_q = 0.003806918347396332 Diff_What = 46.26198021420573\n",
      "Step = 58 Diff_q = 0.0047541920401047745 Diff_What = 46.730860892261944\n",
      "Step = 59 Diff_q = 0.004267884392804342 Diff_What = 47.453898674027286\n",
      "Step = 60 Diff_q = 0.004680872481200707 Diff_What = 46.57559661516917\n",
      "Step = 61 Diff_q = 0.0025099580018943103 Diff_What = 47.121114237760686\n",
      "Step = 62 Diff_q = 0.0014745613939305363 Diff_What = 48.12568304368812\n",
      "Step = 63 Diff_q = 0.001983509094232398 Diff_What = 47.90803514502824\n",
      "Step = 64 Diff_q = 0.001689568713322424 Diff_What = 47.30859829707555\n",
      "Step = 65 Diff_q = 0.0012020997525056711 Diff_What = 47.71011780771637\n",
      "Step = 66 Diff_q = 0.003363303158973056 Diff_What = 48.88864660485982\n",
      "Step = 67 Diff_q = 0.0017988347768538432 Diff_What = 48.888401066980414\n",
      "Step = 68 Diff_q = 0.002172012500570105 Diff_What = 48.41236412627766\n",
      "Step = 69 Diff_q = 0.0008941356875104823 Diff_What = 48.83286485703862\n",
      "Step = 70 Diff_q = 0.0013021676151190834 Diff_What = 48.79985744466404\n",
      "Step = 71 Diff_q = 0.0023204121605467937 Diff_What = 49.31112712856321\n",
      "Step = 72 Diff_q = 0.0023436460418147353 Diff_What = 48.96626249919152\n",
      "Step = 73 Diff_q = 0.0011434199749936784 Diff_What = 48.99878491982811\n",
      "Step = 74 Diff_q = 0.002301416501009204 Diff_What = 49.1643418299296\n",
      "Step = 75 Diff_q = 0.004588130540243672 Diff_What = 50.35731136323799\n",
      "Step = 76 Diff_q = 0.005919178831096427 Diff_What = 50.41556661269133\n",
      "Step = 77 Diff_q = 0.002850438285253038 Diff_What = 50.576536240278365\n",
      "Step = 78 Diff_q = 0.0016402372144047126 Diff_What = 50.63260836505737\n",
      "Step = 79 Diff_q = 0.0022266398642530197 Diff_What = 51.338289907922196\n",
      "Step = 80 Diff_q = 0.0026384790114055297 Diff_What = 51.48832686782093\n",
      "Step = 81 Diff_q = 0.001728978788986184 Diff_What = 52.70153988732579\n",
      "Step = 82 Diff_q = 0.001987803992947801 Diff_What = 53.07534982535379\n",
      "Step = 83 Diff_q = 0.0020235572147431057 Diff_What = 52.34953171560435\n",
      "Step = 84 Diff_q = 0.0015038636784618772 Diff_What = 52.74813017019048\n",
      "Step = 85 Diff_q = 0.0032768577903335367 Diff_What = 53.58702184155602\n",
      "Step = 86 Diff_q = 0.00211433551686187 Diff_What = 53.87016732904462\n",
      "Step = 87 Diff_q = 0.005457668123602905 Diff_What = 55.389715688493766\n",
      "Step = 88 Diff_q = 0.0008626232553292326 Diff_What = 56.16774187958061\n",
      "Step = 89 Diff_q = 0.0025791058324093185 Diff_What = 55.77690813263943\n",
      "Step = 90 Diff_q = 0.0019223913797584802 Diff_What = 55.72241886059847\n",
      "Step = 91 Diff_q = 0.0015349497233231165 Diff_What = 55.464850585414695\n",
      "Step = 92 Diff_q = 0.0027378179694089347 Diff_What = 55.71203602556356\n",
      "Step = 93 Diff_q = 0.0031968749720627456 Diff_What = 55.37951270157238\n",
      "Step = 94 Diff_q = 0.0020875722626676205 Diff_What = 55.850285822846104\n",
      "Step = 95 Diff_q = 0.003707552264961679 Diff_What = 55.847155775627606\n",
      "Step = 96 Diff_q = 0.0023516111105444677 Diff_What = 55.621769217815576\n",
      "Step = 97 Diff_q = 0.0013298445820980433 Diff_What = 56.52627679936591\n",
      "Step = 98 Diff_q = 0.0015183949946149494 Diff_What = 57.451254592769736\n",
      "Step = 99 Diff_q = 0.001019000670269273 Diff_What = 57.44462890199377\n",
      "Step = 100 Diff_q = 0.0016012880426449446 Diff_What = 57.64818679567404\n",
      "Step = 101 Diff_q = 0.0013015296032539239 Diff_What = 57.721236173888\n",
      "Step = 102 Diff_q = 0.0029342974600866877 Diff_What = 57.32138588498502\n",
      "Step = 103 Diff_q = 0.0028312838926086116 Diff_What = 57.152864777011445\n",
      "Step = 104 Diff_q = 0.0021916180119985126 Diff_What = 56.98971547192858\n",
      "Step = 105 Diff_q = 0.0025928924666707123 Diff_What = 56.20004155209087\n",
      "Step = 106 Diff_q = 0.0013367419271143985 Diff_What = 56.26429345558214\n",
      "Step = 107 Diff_q = 0.0018847736672829261 Diff_What = 56.085526847967145\n",
      "Step = 108 Diff_q = 0.0007664803612530352 Diff_What = 56.00649056402744\n"
     ]
    },
    {
     "ename": "KeyboardInterrupt",
     "evalue": "",
     "output_type": "error",
     "traceback": [
      "\u001b[0;31m---------------------------------------------------------------------------\u001b[0m",
      "\u001b[0;31mKeyboardInterrupt\u001b[0m                         Traceback (most recent call last)",
      "\u001b[0;32m<ipython-input-4-a7b3bd0fbfaa>\u001b[0m in \u001b[0;36m<module>\u001b[0;34m()\u001b[0m\n\u001b[0;32m----> 1\u001b[0;31m \u001b[0mobj_AMP\u001b[0m \u001b[0;34m=\u001b[0m \u001b[0mrun_AMP\u001b[0m\u001b[0;34m(\u001b[0m\u001b[0mK\u001b[0m\u001b[0;34m,\u001b[0m\u001b[0mPW_choice\u001b[0m\u001b[0;34m,\u001b[0m\u001b[0mN\u001b[0m\u001b[0;34m,\u001b[0m\u001b[0malpha\u001b[0m\u001b[0;34m,\u001b[0m\u001b[0mprint_Running\u001b[0m\u001b[0;34m)\u001b[0m\u001b[0;34m\u001b[0m\u001b[0m\n\u001b[0m",
      "\u001b[0;32m~/Documents/GitHub/TheCommitteeMachine/Python/main.py\u001b[0m in \u001b[0;36mrun_AMP\u001b[0;34m(K, PW_choice, N, alpha, print_Running)\u001b[0m\n\u001b[1;32m      9\u001b[0m     \u001b[0mAMP\u001b[0m\u001b[0;34m.\u001b[0m\u001b[0mN_step_AMP\u001b[0m \u001b[0;34m=\u001b[0m \u001b[0mN_step_AMP\u001b[0m\u001b[0;34m\u001b[0m\u001b[0m\n\u001b[1;32m     10\u001b[0m     \u001b[0mAMP\u001b[0m\u001b[0;34m.\u001b[0m\u001b[0minitialization\u001b[0m\u001b[0;34m(\u001b[0m\u001b[0;34m)\u001b[0m\u001b[0;34m\u001b[0m\u001b[0m\n\u001b[0;32m---> 11\u001b[0;31m     \u001b[0mAMP\u001b[0m\u001b[0;34m.\u001b[0m\u001b[0mAMP_iteration\u001b[0m\u001b[0;34m(\u001b[0m\u001b[0;34m)\u001b[0m\u001b[0;34m\u001b[0m\u001b[0m\n\u001b[0m\u001b[1;32m     12\u001b[0m     \u001b[0;32mreturn\u001b[0m \u001b[0mAMP\u001b[0m\u001b[0;34m\u001b[0m\u001b[0m\n\u001b[1;32m     13\u001b[0m \u001b[0;32mdef\u001b[0m \u001b[0mplot_q\u001b[0m\u001b[0;34m(\u001b[0m\u001b[0mobj\u001b[0m\u001b[0;34m)\u001b[0m\u001b[0;34m:\u001b[0m\u001b[0;34m\u001b[0m\u001b[0m\n",
      "\u001b[0;32m~/Documents/GitHub/TheCommitteeMachine/Python/Class/AMP_class.py\u001b[0m in \u001b[0;36mAMP_iteration\u001b[0;34m(self)\u001b[0m\n\u001b[1;32m    791\u001b[0m                                         \u001b[0;32mbreak\u001b[0m\u001b[0;34m\u001b[0m\u001b[0m\n\u001b[1;32m    792\u001b[0m                         \u001b[0;32melse\u001b[0m \u001b[0;34m:\u001b[0m\u001b[0;34m\u001b[0m\u001b[0m\n\u001b[0;32m--> 793\u001b[0;31m                                 \u001b[0mself\u001b[0m\u001b[0;34m.\u001b[0m\u001b[0mAMP_step_t\u001b[0m\u001b[0;34m(\u001b[0m\u001b[0mstep\u001b[0m\u001b[0;34m)\u001b[0m\u001b[0;34m\u001b[0m\u001b[0m\n\u001b[0m\u001b[1;32m    794\u001b[0m \u001b[0;34m\u001b[0m\u001b[0m\n\u001b[1;32m    795\u001b[0m                         \u001b[0;31m# Compute difference for convergence\u001b[0m\u001b[0;34m\u001b[0m\u001b[0;34m\u001b[0m\u001b[0m\n",
      "\u001b[0;32m~/Documents/GitHub/TheCommitteeMachine/Python/Class/AMP_class.py\u001b[0m in \u001b[0;36mAMP_step_t\u001b[0;34m(self, t)\u001b[0m\n\u001b[1;32m    651\u001b[0m                 \u001b[0;31m# Update\u001b[0m\u001b[0;34m\u001b[0m\u001b[0;34m\u001b[0m\u001b[0m\n\u001b[1;32m    652\u001b[0m                 \u001b[0;32mif\u001b[0m \u001b[0mself\u001b[0m\u001b[0;34m.\u001b[0m\u001b[0muse_Tensor\u001b[0m\u001b[0;34m:\u001b[0m\u001b[0;34m\u001b[0m\u001b[0m\n\u001b[0;32m--> 653\u001b[0;31m                         \u001b[0;34m(\u001b[0m\u001b[0momega_t\u001b[0m\u001b[0;34m)\u001b[0m \u001b[0;34m=\u001b[0m \u001b[0mself\u001b[0m\u001b[0;34m.\u001b[0m\u001b[0mupdate_omega_tensor\u001b[0m\u001b[0;34m(\u001b[0m\u001b[0;34m)\u001b[0m\u001b[0;34m\u001b[0m\u001b[0m\n\u001b[0m\u001b[1;32m    654\u001b[0m                 \u001b[0;32melse\u001b[0m \u001b[0;34m:\u001b[0m\u001b[0;34m\u001b[0m\u001b[0m\n\u001b[1;32m    655\u001b[0m                         \u001b[0;34m(\u001b[0m\u001b[0momega_t\u001b[0m\u001b[0;34m)\u001b[0m \u001b[0;34m=\u001b[0m \u001b[0mself\u001b[0m\u001b[0;34m.\u001b[0m\u001b[0mupdate_omega\u001b[0m\u001b[0;34m(\u001b[0m\u001b[0;34m)\u001b[0m\u001b[0;34m\u001b[0m\u001b[0m\n",
      "\u001b[0;32m~/Documents/GitHub/TheCommitteeMachine/Python/Class/AMP_class.py\u001b[0m in \u001b[0;36mupdate_omega_tensor\u001b[0;34m(self)\u001b[0m\n\u001b[1;32m    558\u001b[0m                 \u001b[0;31m#term_Sigma_inv_C_Sigma = np.einsum('ijk,jik->ijk',self.Sigma_inv,term_C_Sigma)\u001b[0m\u001b[0;34m\u001b[0m\u001b[0;34m\u001b[0m\u001b[0m\n\u001b[1;32m    559\u001b[0m                 \u001b[0mterm_Sigma_inv_C_Sigma\u001b[0m \u001b[0;34m=\u001b[0m \u001b[0mself\u001b[0m\u001b[0;34m.\u001b[0m\u001b[0mC_hat\u001b[0m\u001b[0;34m\u001b[0m\u001b[0m\n\u001b[0;32m--> 560\u001b[0;31m                 \u001b[0mtmp\u001b[0m \u001b[0;34m=\u001b[0m \u001b[0mnp\u001b[0m\u001b[0;34m.\u001b[0m\u001b[0meinsum\u001b[0m\u001b[0;34m(\u001b[0m\u001b[0;34m'ijk,jl->ikl'\u001b[0m\u001b[0;34m,\u001b[0m\u001b[0mterm_Sigma_inv_C_Sigma\u001b[0m\u001b[0;34m,\u001b[0m\u001b[0mself\u001b[0m\u001b[0;34m.\u001b[0m\u001b[0mgout\u001b[0m\u001b[0;34m)\u001b[0m\u001b[0;34m\u001b[0m\u001b[0m\n\u001b[0m\u001b[1;32m    561\u001b[0m                 \u001b[0mterm2\u001b[0m \u001b[0;34m=\u001b[0m \u001b[0mnp\u001b[0m\u001b[0;34m.\u001b[0m\u001b[0meinsum\u001b[0m\u001b[0;34m(\u001b[0m\u001b[0;34m'ijl,jl->il'\u001b[0m\u001b[0;34m,\u001b[0m\u001b[0mtmp\u001b[0m\u001b[0;34m,\u001b[0m\u001b[0mnp\u001b[0m\u001b[0;34m.\u001b[0m\u001b[0msquare\u001b[0m\u001b[0;34m(\u001b[0m\u001b[0mself\u001b[0m\u001b[0;34m.\u001b[0m\u001b[0mX\u001b[0m\u001b[0;34m)\u001b[0m\u001b[0;34m)\u001b[0m\u001b[0;34m\u001b[0m\u001b[0m\n\u001b[1;32m    562\u001b[0m                 \u001b[0momega\u001b[0m \u001b[0;34m=\u001b[0m \u001b[0mterm1\u001b[0m \u001b[0;34m-\u001b[0m \u001b[0mterm2\u001b[0m\u001b[0;34m\u001b[0m\u001b[0m\n",
      "\u001b[0;32m~/anaconda/lib/python3.6/site-packages/numpy/core/einsumfunc.py\u001b[0m in \u001b[0;36meinsum\u001b[0;34m(*operands, **kwargs)\u001b[0m\n\u001b[1;32m   1067\u001b[0m     \u001b[0;31m# If no optimization, run pure einsum\u001b[0m\u001b[0;34m\u001b[0m\u001b[0;34m\u001b[0m\u001b[0m\n\u001b[1;32m   1068\u001b[0m     \u001b[0;32mif\u001b[0m \u001b[0moptimize_arg\u001b[0m \u001b[0;32mis\u001b[0m \u001b[0;32mFalse\u001b[0m\u001b[0;34m:\u001b[0m\u001b[0;34m\u001b[0m\u001b[0m\n\u001b[0;32m-> 1069\u001b[0;31m         \u001b[0;32mreturn\u001b[0m \u001b[0mc_einsum\u001b[0m\u001b[0;34m(\u001b[0m\u001b[0;34m*\u001b[0m\u001b[0moperands\u001b[0m\u001b[0;34m,\u001b[0m \u001b[0;34m**\u001b[0m\u001b[0mkwargs\u001b[0m\u001b[0;34m)\u001b[0m\u001b[0;34m\u001b[0m\u001b[0m\n\u001b[0m\u001b[1;32m   1070\u001b[0m \u001b[0;34m\u001b[0m\u001b[0m\n\u001b[1;32m   1071\u001b[0m     \u001b[0mvalid_einsum_kwargs\u001b[0m \u001b[0;34m=\u001b[0m \u001b[0;34m[\u001b[0m\u001b[0;34m'out'\u001b[0m\u001b[0;34m,\u001b[0m \u001b[0;34m'dtype'\u001b[0m\u001b[0;34m,\u001b[0m \u001b[0;34m'order'\u001b[0m\u001b[0;34m,\u001b[0m \u001b[0;34m'casting'\u001b[0m\u001b[0;34m]\u001b[0m\u001b[0;34m\u001b[0m\u001b[0m\n",
      "\u001b[0;31mKeyboardInterrupt\u001b[0m: "
     ]
    }
   ],
   "source": [
    "obj_AMP = run_AMP(K,PW_choice,N,alpha,print_Running)"
   ]
  },
  {
   "cell_type": "markdown",
   "metadata": {},
   "source": [
    "#### 2. Plot the evolution of $q_{AMP}^t$"
   ]
  },
  {
   "cell_type": "code",
   "execution_count": null,
   "metadata": {},
   "outputs": [],
   "source": [
    "plot_q(obj_AMP)"
   ]
  },
  {
   "cell_type": "markdown",
   "metadata": {},
   "source": [
    "#### 3. AMP generalization error (over N_samples_gen_error new samples)"
   ]
  },
  {
   "cell_type": "code",
   "execution_count": null,
   "metadata": {},
   "outputs": [],
   "source": [
    "## Compute the corresponding Generalization Error\n",
    "N_samples_gen_error = 10000\n",
    "run_gen_error_AMP(obj_AMP,K,PW_choice,N,alpha,N_samples_gen_error)"
   ]
  },
  {
   "cell_type": "markdown",
   "metadata": {},
   "source": [
    "## State Evolution"
   ]
  },
  {
   "cell_type": "markdown",
   "metadata": {},
   "source": [
    "#### 1. Run SE (initialization with backup to speed up)"
   ]
  },
  {
   "cell_type": "code",
   "execution_count": null,
   "metadata": {
    "scrolled": true
   },
   "outputs": [],
   "source": [
    "obj_SE= run_SE(K,PW_choice,alpha,print_Running)"
   ]
  },
  {
   "cell_type": "markdown",
   "metadata": {},
   "source": [
    "#### 2. Compute SE geneealization error"
   ]
  },
  {
   "cell_type": "code",
   "execution_count": null,
   "metadata": {},
   "outputs": [],
   "source": [
    "run_gen_error_SE(obj_SE)"
   ]
  }
 ],
 "metadata": {
  "kernelspec": {
   "display_name": "Python 3",
   "language": "python",
   "name": "python3"
  },
  "language_info": {
   "codemirror_mode": {
    "name": "ipython",
    "version": 3
   },
   "file_extension": ".py",
   "mimetype": "text/x-python",
   "name": "python",
   "nbconvert_exporter": "python",
   "pygments_lexer": "ipython3",
   "version": "3.6.1"
  }
 },
 "nbformat": 4,
 "nbformat_minor": 2
}
